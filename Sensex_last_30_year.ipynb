{
  "nbformat": 4,
  "nbformat_minor": 0,
  "metadata": {
    "colab": {
      "provenance": [],
      "toc_visible": true
    },
    "kernelspec": {
      "name": "python3",
      "display_name": "Python 3"
    },
    "language_info": {
      "name": "python"
    }
  },
  "cells": [
    {
      "cell_type": "code",
      "execution_count": null,
      "metadata": {
        "id": "lEdQwKfvvf7N"
      },
      "outputs": [],
      "source": [
        "import numpy as np\n",
        "import pandas as pd"
      ]
    },
    {
      "cell_type": "code",
      "source": [
        "df=pd.read_csv(\"/CSVForDate.csv\",usecols=[1])\n",
        "df=df.dropna()\n",
        "df"
      ],
      "metadata": {
        "colab": {
          "base_uri": "https://localhost:8080/",
          "height": 424
        },
        "id": "y28TF0iTvlYw",
        "outputId": "9ff15f0e-11ab-4b07-dd45-519299bb3c41"
      },
      "execution_count": null,
      "outputs": [
        {
          "output_type": "execute_result",
          "data": {
            "text/plain": [
              "                       Open\n",
              "2-January-1992       529.22\n",
              "3-January-1992       538.68\n",
              "6-January-1992       537.85\n",
              "7-January-1992       526.11\n",
              "8-January-1992       523.67\n",
              "...                     ...\n",
              "26-September-2022  17655.60\n",
              "27-September-2022  17539.22\n",
              "28-September-2022  17359.93\n",
              "29-September-2022  17458.45\n",
              "30-September-2022  17254.86\n",
              "\n",
              "[7482 rows x 1 columns]"
            ],
            "text/html": [
              "\n",
              "  <div id=\"df-e56f7e3c-2cb0-436a-b1b6-f2d9b16c3f66\">\n",
              "    <div class=\"colab-df-container\">\n",
              "      <div>\n",
              "<style scoped>\n",
              "    .dataframe tbody tr th:only-of-type {\n",
              "        vertical-align: middle;\n",
              "    }\n",
              "\n",
              "    .dataframe tbody tr th {\n",
              "        vertical-align: top;\n",
              "    }\n",
              "\n",
              "    .dataframe thead th {\n",
              "        text-align: right;\n",
              "    }\n",
              "</style>\n",
              "<table border=\"1\" class=\"dataframe\">\n",
              "  <thead>\n",
              "    <tr style=\"text-align: right;\">\n",
              "      <th></th>\n",
              "      <th>Open</th>\n",
              "    </tr>\n",
              "  </thead>\n",
              "  <tbody>\n",
              "    <tr>\n",
              "      <th>2-January-1992</th>\n",
              "      <td>529.22</td>\n",
              "    </tr>\n",
              "    <tr>\n",
              "      <th>3-January-1992</th>\n",
              "      <td>538.68</td>\n",
              "    </tr>\n",
              "    <tr>\n",
              "      <th>6-January-1992</th>\n",
              "      <td>537.85</td>\n",
              "    </tr>\n",
              "    <tr>\n",
              "      <th>7-January-1992</th>\n",
              "      <td>526.11</td>\n",
              "    </tr>\n",
              "    <tr>\n",
              "      <th>8-January-1992</th>\n",
              "      <td>523.67</td>\n",
              "    </tr>\n",
              "    <tr>\n",
              "      <th>...</th>\n",
              "      <td>...</td>\n",
              "    </tr>\n",
              "    <tr>\n",
              "      <th>26-September-2022</th>\n",
              "      <td>17655.60</td>\n",
              "    </tr>\n",
              "    <tr>\n",
              "      <th>27-September-2022</th>\n",
              "      <td>17539.22</td>\n",
              "    </tr>\n",
              "    <tr>\n",
              "      <th>28-September-2022</th>\n",
              "      <td>17359.93</td>\n",
              "    </tr>\n",
              "    <tr>\n",
              "      <th>29-September-2022</th>\n",
              "      <td>17458.45</td>\n",
              "    </tr>\n",
              "    <tr>\n",
              "      <th>30-September-2022</th>\n",
              "      <td>17254.86</td>\n",
              "    </tr>\n",
              "  </tbody>\n",
              "</table>\n",
              "<p>7482 rows × 1 columns</p>\n",
              "</div>\n",
              "      <button class=\"colab-df-convert\" onclick=\"convertToInteractive('df-e56f7e3c-2cb0-436a-b1b6-f2d9b16c3f66')\"\n",
              "              title=\"Convert this dataframe to an interactive table.\"\n",
              "              style=\"display:none;\">\n",
              "        \n",
              "  <svg xmlns=\"http://www.w3.org/2000/svg\" height=\"24px\"viewBox=\"0 0 24 24\"\n",
              "       width=\"24px\">\n",
              "    <path d=\"M0 0h24v24H0V0z\" fill=\"none\"/>\n",
              "    <path d=\"M18.56 5.44l.94 2.06.94-2.06 2.06-.94-2.06-.94-.94-2.06-.94 2.06-2.06.94zm-11 1L8.5 8.5l.94-2.06 2.06-.94-2.06-.94L8.5 2.5l-.94 2.06-2.06.94zm10 10l.94 2.06.94-2.06 2.06-.94-2.06-.94-.94-2.06-.94 2.06-2.06.94z\"/><path d=\"M17.41 7.96l-1.37-1.37c-.4-.4-.92-.59-1.43-.59-.52 0-1.04.2-1.43.59L10.3 9.45l-7.72 7.72c-.78.78-.78 2.05 0 2.83L4 21.41c.39.39.9.59 1.41.59.51 0 1.02-.2 1.41-.59l7.78-7.78 2.81-2.81c.8-.78.8-2.07 0-2.86zM5.41 20L4 18.59l7.72-7.72 1.47 1.35L5.41 20z\"/>\n",
              "  </svg>\n",
              "      </button>\n",
              "      \n",
              "  <style>\n",
              "    .colab-df-container {\n",
              "      display:flex;\n",
              "      flex-wrap:wrap;\n",
              "      gap: 12px;\n",
              "    }\n",
              "\n",
              "    .colab-df-convert {\n",
              "      background-color: #E8F0FE;\n",
              "      border: none;\n",
              "      border-radius: 50%;\n",
              "      cursor: pointer;\n",
              "      display: none;\n",
              "      fill: #1967D2;\n",
              "      height: 32px;\n",
              "      padding: 0 0 0 0;\n",
              "      width: 32px;\n",
              "    }\n",
              "\n",
              "    .colab-df-convert:hover {\n",
              "      background-color: #E2EBFA;\n",
              "      box-shadow: 0px 1px 2px rgba(60, 64, 67, 0.3), 0px 1px 3px 1px rgba(60, 64, 67, 0.15);\n",
              "      fill: #174EA6;\n",
              "    }\n",
              "\n",
              "    [theme=dark] .colab-df-convert {\n",
              "      background-color: #3B4455;\n",
              "      fill: #D2E3FC;\n",
              "    }\n",
              "\n",
              "    [theme=dark] .colab-df-convert:hover {\n",
              "      background-color: #434B5C;\n",
              "      box-shadow: 0px 1px 3px 1px rgba(0, 0, 0, 0.15);\n",
              "      filter: drop-shadow(0px 1px 2px rgba(0, 0, 0, 0.3));\n",
              "      fill: #FFFFFF;\n",
              "    }\n",
              "  </style>\n",
              "\n",
              "      <script>\n",
              "        const buttonEl =\n",
              "          document.querySelector('#df-e56f7e3c-2cb0-436a-b1b6-f2d9b16c3f66 button.colab-df-convert');\n",
              "        buttonEl.style.display =\n",
              "          google.colab.kernel.accessAllowed ? 'block' : 'none';\n",
              "\n",
              "        async function convertToInteractive(key) {\n",
              "          const element = document.querySelector('#df-e56f7e3c-2cb0-436a-b1b6-f2d9b16c3f66');\n",
              "          const dataTable =\n",
              "            await google.colab.kernel.invokeFunction('convertToInteractive',\n",
              "                                                     [key], {});\n",
              "          if (!dataTable) return;\n",
              "\n",
              "          const docLinkHtml = 'Like what you see? Visit the ' +\n",
              "            '<a target=\"_blank\" href=https://colab.research.google.com/notebooks/data_table.ipynb>data table notebook</a>'\n",
              "            + ' to learn more about interactive tables.';\n",
              "          element.innerHTML = '';\n",
              "          dataTable['output_type'] = 'display_data';\n",
              "          await google.colab.output.renderOutput(dataTable, element);\n",
              "          const docLink = document.createElement('div');\n",
              "          docLink.innerHTML = docLinkHtml;\n",
              "          element.appendChild(docLink);\n",
              "        }\n",
              "      </script>\n",
              "    </div>\n",
              "  </div>\n",
              "  "
            ]
          },
          "metadata": {},
          "execution_count": 7
        }
      ]
    },
    {
      "cell_type": "code",
      "source": [
        "values=np.array(df.iloc[:,0],dtype=\"float32\")\n",
        "print(values)"
      ],
      "metadata": {
        "colab": {
          "base_uri": "https://localhost:8080/"
        },
        "id": "UqtOfcswvw7F",
        "outputId": "91cc652f-c71a-41a7-f3ff-acc2cb6dd826"
      },
      "execution_count": null,
      "outputs": [
        {
          "output_type": "stream",
          "name": "stdout",
          "text": [
            "[  529.22   538.68   537.85 ... 17359.93 17458.45 17254.86]\n"
          ]
        }
      ]
    },
    {
      "cell_type": "code",
      "source": [
        "train_size=int(values.shape[0]*0.70)\n",
        "train=values[:train_size]\n",
        "train"
      ],
      "metadata": {
        "colab": {
          "base_uri": "https://localhost:8080/"
        },
        "id": "jmRbg-F2wM6B",
        "outputId": "c2fd5733-afbe-435a-ec42-27139f16a2e9"
      },
      "execution_count": null,
      "outputs": [
        {
          "output_type": "execute_result",
          "data": {
            "text/plain": [
              "array([ 529.22,  538.68,  537.85, ..., 5304.32, 5391.45, 5470.19],\n",
              "      dtype=float32)"
            ]
          },
          "metadata": {},
          "execution_count": 9
        }
      ]
    },
    {
      "cell_type": "code",
      "source": [
        "test=values[train_size:]\n",
        "test"
      ],
      "metadata": {
        "colab": {
          "base_uri": "https://localhost:8080/"
        },
        "id": "qVzumjeKwyq6",
        "outputId": "8c0fc010-e655-43fa-9be6-cc0bebc7af72"
      },
      "execution_count": null,
      "outputs": [
        {
          "output_type": "execute_result",
          "data": {
            "text/plain": [
              "array([ 5561.13,  5358.78,  5526.31, ..., 17359.93, 17458.45, 17254.86],\n",
              "      dtype=float32)"
            ]
          },
          "metadata": {},
          "execution_count": 10
        }
      ]
    },
    {
      "cell_type": "code",
      "source": [
        "train=np.reshape(train,(train.shape[0],1))\n",
        "test=np.reshape(test,(test.shape[0],1))"
      ],
      "metadata": {
        "id": "2Tr5RjGtw0Wb"
      },
      "execution_count": null,
      "outputs": []
    },
    {
      "cell_type": "code",
      "source": [
        "from sklearn import preprocessing\n",
        "slr=preprocessing.StandardScaler()\n",
        "slr.fit_transform(train)\n",
        "train=slr.transform(train)\n",
        "test=slr.transform(test)"
      ],
      "metadata": {
        "id": "F0-oxWvGw2hS"
      },
      "execution_count": null,
      "outputs": []
    },
    {
      "cell_type": "code",
      "source": [
        "def f(data,look_back):\n",
        "  x,y=[],[]\n",
        "  k=look_back\n",
        "  for i in range(len(data)-look_back):\n",
        "    y.append(data[i+k][0])\n",
        "    x.append(data[i:i+k])\n",
        "  x=np.array(x)\n",
        "  y=np.array(y)\n",
        "  return x,y"
      ],
      "metadata": {
        "id": "8jrjo1Esw6Iz"
      },
      "execution_count": null,
      "outputs": []
    },
    {
      "cell_type": "code",
      "source": [
        "x_train,y_train=f(train,1434)\n",
        "x_test,y_test=f(test,1434)\n"
      ],
      "metadata": {
        "id": "sLG_PDcjw7oo"
      },
      "execution_count": null,
      "outputs": []
    },
    {
      "cell_type": "code",
      "source": [
        "print(x_train.shape,y_train.shape,x_test.shape,y_test.shape)"
      ],
      "metadata": {
        "colab": {
          "base_uri": "https://localhost:8080/"
        },
        "id": "af-Rz8jexN0X",
        "outputId": "8da53b7a-f5e2-4eba-9bb4-ebf175daa8ee"
      },
      "execution_count": null,
      "outputs": [
        {
          "output_type": "stream",
          "name": "stdout",
          "text": [
            "(3803, 1434, 1) (3803,) (811, 1434, 1) (811,)\n"
          ]
        }
      ]
    },
    {
      "cell_type": "code",
      "source": [
        "import tensorflow as tf\n",
        "from tensorflow.keras.models import Sequential\n",
        "from keras.layers import Dense,SimpleRNN,LSTM,Dropout"
      ],
      "metadata": {
        "id": "0c9jNHXuxPsC"
      },
      "execution_count": null,
      "outputs": []
    },
    {
      "cell_type": "code",
      "source": [
        "model=Sequential()\n",
        "model.add(LSTM(128,input_shape=(1434,1)))\n",
        "model.add(Dropout(0.2))\n",
        "model.add(Dense(64,activation=\"relu\"))\n",
        "model.add(Dense(1))"
      ],
      "metadata": {
        "id": "i4sSd3WXxRSl"
      },
      "execution_count": null,
      "outputs": []
    },
    {
      "cell_type": "code",
      "source": [
        "model.compile(loss='mean_squared_error', optimizer='adam')"
      ],
      "metadata": {
        "id": "5a7f20nBxS7Q"
      },
      "execution_count": null,
      "outputs": []
    },
    {
      "cell_type": "code",
      "source": [
        "model.summary()"
      ],
      "metadata": {
        "colab": {
          "base_uri": "https://localhost:8080/"
        },
        "id": "_1OOvYc2yLPA",
        "outputId": "489028d5-9c01-4b0f-d5d0-37f09e94826f"
      },
      "execution_count": null,
      "outputs": [
        {
          "output_type": "stream",
          "name": "stdout",
          "text": [
            "Model: \"sequential_3\"\n",
            "_________________________________________________________________\n",
            " Layer (type)                Output Shape              Param #   \n",
            "=================================================================\n",
            " lstm_3 (LSTM)               (None, 128)               66560     \n",
            "                                                                 \n",
            " dropout_3 (Dropout)         (None, 128)               0         \n",
            "                                                                 \n",
            " dense_6 (Dense)             (None, 64)                8256      \n",
            "                                                                 \n",
            " dense_7 (Dense)             (None, 1)                 65        \n",
            "                                                                 \n",
            "=================================================================\n",
            "Total params: 74,881\n",
            "Trainable params: 74,881\n",
            "Non-trainable params: 0\n",
            "_________________________________________________________________\n"
          ]
        }
      ]
    },
    {
      "cell_type": "code",
      "source": [
        "\n",
        "model.fit(x_train, y_train, epochs=10, batch_size = 1)"
      ],
      "metadata": {
        "colab": {
          "base_uri": "https://localhost:8080/"
        },
        "id": "FiYn0SJ-xUdf",
        "outputId": "43fb278c-de73-4716-d50a-f03a9a1355d3"
      },
      "execution_count": null,
      "outputs": [
        {
          "output_type": "stream",
          "name": "stdout",
          "text": [
            "Epoch 1/10\n",
            "3803/3803 [==============================] - 1128s 296ms/step - loss: 0.0118\n",
            "Epoch 2/10\n",
            "3803/3803 [==============================] - 1099s 289ms/step - loss: 0.0073\n",
            "Epoch 3/10\n",
            "3803/3803 [==============================] - 1084s 285ms/step - loss: 0.0062\n",
            "Epoch 4/10\n",
            "3803/3803 [==============================] - 1102s 290ms/step - loss: 0.0057\n",
            "Epoch 5/10\n",
            "3803/3803 [==============================] - 1101s 290ms/step - loss: 0.0050\n",
            "Epoch 6/10\n",
            "3803/3803 [==============================] - 1094s 288ms/step - loss: 0.0045\n",
            "Epoch 7/10\n",
            "3803/3803 [==============================] - 1094s 288ms/step - loss: 0.0040\n",
            "Epoch 8/10\n",
            "3803/3803 [==============================] - 1152s 303ms/step - loss: 0.0038\n",
            "Epoch 9/10\n",
            "3803/3803 [==============================] - 1177s 310ms/step - loss: 0.0051\n",
            "Epoch 10/10\n",
            "3803/3803 [==============================] - 1203s 316ms/step - loss: 0.0032\n"
          ]
        },
        {
          "output_type": "execute_result",
          "data": {
            "text/plain": [
              "<keras.callbacks.History at 0x7fcf490bea10>"
            ]
          },
          "metadata": {},
          "execution_count": 31
        }
      ]
    },
    {
      "cell_type": "code",
      "source": [
        "\n",
        "y_pre=model.predict(x_test)\n",
        "y_pre_train=model.predict(x_train)\n",
        "y_pre=slr.inverse_transform(y_pre).ravel()\n",
        "y_pre_train=slr.inverse_transform(y_pre_train).ravel()\n",
        "y_train=np.reshape(y_train,(y_train.shape[0],1))\n",
        "y_test=np.reshape(y_test,(y_test.shape[0],1))\n",
        "y_train=slr.inverse_transform(y_train).ravel()\n",
        "y_test=slr.inverse_transform(y_test).ravel()"
      ],
      "metadata": {
        "colab": {
          "base_uri": "https://localhost:8080/"
        },
        "id": "BPCgOSvPxWyI",
        "outputId": "059c7aca-b6d7-4681-b0f1-1dcaa6b3a052"
      },
      "execution_count": null,
      "outputs": [
        {
          "output_type": "stream",
          "name": "stdout",
          "text": [
            "26/26 [==============================] - 21s 746ms/step\n",
            "119/119 [==============================] - 78s 656ms/step\n"
          ]
        }
      ]
    },
    {
      "cell_type": "code",
      "source": [
        "import matplotlib.pyplot as plt\n",
        "plt.plot(y_pre_train,c=\"g\")\n",
        "plt.plot(y_train,c=\"b\")\n",
        "plt.show()"
      ],
      "metadata": {
        "colab": {
          "base_uri": "https://localhost:8080/",
          "height": 269
        },
        "id": "BBrxvtnCecWO",
        "outputId": "1fcb0bd0-a9f2-4ac0-9b4a-21c6b3d65a58"
      },
      "execution_count": null,
      "outputs": [
        {
          "output_type": "display_data",
          "data": {
            "text/plain": [
              "<Figure size 432x288 with 1 Axes>"
            ],
            "image/png": "[encoded data removed]"
          },
          "metadata": {
            "needs_background": "light"
          }
        }
      ]
    },
    {
      "cell_type": "code",
      "source": [
        "plt.plot(y_pre,c=\"g\")\n",
        "plt.plot(y_test,c=\"b\")\n",
        "plt.show()"
      ],
      "metadata": {
        "colab": {
          "base_uri": "https://localhost:8080/",
          "height": 265
        },
        "id": "HAYXrlhOe2J0",
        "outputId": "e5d8ea5e-2dce-4b1a-aab8-bbf861db4bd8"
      },
      "execution_count": null,
      "outputs": [
        {
          "output_type": "display_data",
          "data": {
            "text/plain": [
              "<Figure size 432x288 with 1 Axes>"
            ],
            "image/png": "[encoded data removed]"
          },
          "metadata": {
            "needs_background": "light"
          }
        }
      ]
    },
    {
      "cell_type": "code",
      "source": [
        "combinedPredicted = np.concatenate((y_pre_train, y_pre))\n",
        "combinedTrue = np.concatenate((y_train, y_test))\n",
        "plt.plot(combinedTrue, c = 'g')\n",
        "plt.plot(combinedPredicted, c = 'b')\n",
        "plt.show()"
      ],
      "metadata": {
        "colab": {
          "base_uri": "https://localhost:8080/",
          "height": 265
        },
        "id": "KJHIDBqAe_TN",
        "outputId": "1abc3b4f-72ff-4229-b60a-c9e900be23e6"
      },
      "execution_count": null,
      "outputs": [
        {
          "output_type": "display_data",
          "data": {
            "text/plain": [
              "<Figure size 432x288 with 1 Axes>"
            ],
            "image/png": "[encoded data removed]"
          },
          "metadata": {
            "needs_background": "light"
          }
        }
      ]
    },
    {
      "cell_type": "code",
      "source": [],
      "metadata": {
        "id": "oBeuhJG9fFto"
      },
      "execution_count": 1,
      "outputs": []
    },
    {
      "cell_type": "code",
      "source": [],
      "metadata": {
        "id": "AtjwB6IGiBoE"
      },
      "execution_count": null,
      "outputs": []
    },
    {
      "cell_type": "code",
      "source": [],
      "metadata": {
        "id": "e081l4xUp4t8"
      },
      "execution_count": null,
      "outputs": []
    },
    {
      "cell_type": "code",
      "source": [],
      "metadata": {
        "id": "X_EXA4tgq2qo"
      },
      "execution_count": null,
      "outputs": []
    },
    {
      "cell_type": "code",
      "source": [],
      "metadata": {
        "id": "gj7vCu2Eru6x"
      },
      "execution_count": null,
      "outputs": []
    }
  ]
}